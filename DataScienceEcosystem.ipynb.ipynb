{
 "cells": [
  {
   "cell_type": "markdown",
   "id": "9e8ecafb-b2f0-4cc1-a83f-c26f666bc70b",
   "metadata": {},
   "source": [
    "# Data Science Tools and Ecosystem"
   ]
  },
  {
   "cell_type": "markdown",
   "id": "c1d3b694-382e-4db9-abe1-f0d6aae8d0cb",
   "metadata": {},
   "source": [
    "In this notebook, Data Science Tools and Ecosystem are summarized.\n",
    "\n"
   ]
  },
  {
   "cell_type": "markdown",
   "id": "bfb64711-c779-44ac-93e1-7299e8ed9789",
   "metadata": {},
   "source": [
    "**Objectives:**\n",
    "\n",
    "* Popular languages data scientist use\n",
    "* commonly used libraries by data scientists\n",
    "* examples of arithmetic expressions \n"
   ]
  },
  {
   "cell_type": "markdown",
   "id": "38f092aa-5fa5-4a2b-bfc1-3e135cad8eb7",
   "metadata": {},
   "source": [
    "Some of the popular languages that Data Scientists use are:\n",
    "1. Python \n",
    "2. SQL\n",
    "3. R"
   ]
  },
  {
   "cell_type": "markdown",
   "id": "1f0597a8-d1ec-4b9d-825d-18d17a5d4423",
   "metadata": {},
   "source": [
    "Some of the commonly used libraries used by Data Scientists include:\n",
    "1. Numpy\n",
    "2. Pandas\n",
    "3. Matplotlib"
   ]
  },
  {
   "cell_type": "markdown",
   "id": "80945547-8735-4a74-afce-a6995e0da23f",
   "metadata": {},
   "source": [
    "\n",
    "|Data Science Tools|\n",
    "|------------------|\n",
    "|VS Code|\n",
    "|Jupyter Notebook|\n",
    "|Rstudio|\n"
   ]
  },
  {
   "cell_type": "markdown",
   "id": "7e626a62-72ae-4fe5-b66b-6cd867f4a317",
   "metadata": {},
   "source": [
    "### Below are a few examples of evaluating arithmetic expressions in Python.\n",
    "\n",
    "* 5+3\n",
    "* 3-1\n",
    "* 2*2\n",
    "* 10/2"
   ]
  },
  {
   "cell_type": "code",
   "execution_count": 6,
   "id": "0cf165f7-a7ac-4fb7-9301-17f3a397a63e",
   "metadata": {},
   "outputs": [
    {
     "data": {
      "text/plain": [
       "17"
      ]
     },
     "execution_count": 6,
     "metadata": {},
     "output_type": "execute_result"
    }
   ],
   "source": [
    "#This a simple arithmetic expression to mutiply then add integers\n",
    "(3*4)+5"
   ]
  },
  {
   "cell_type": "code",
   "execution_count": 11,
   "id": "b07d2865-a6c8-478b-8ef2-16e1f920a32a",
   "metadata": {},
   "outputs": [
    {
     "data": {
      "text/plain": [
       "3.3333333333333335"
      ]
     },
     "execution_count": 11,
     "metadata": {},
     "output_type": "execute_result"
    }
   ],
   "source": [
    "#This will convert 200 minutes to hours by diving by 60.\n",
    "hours = 200 / 60\n",
    "hours"
   ]
  },
  {
   "cell_type": "markdown",
   "id": "217f6334-cee1-4c5e-ab6e-5d2c47bfa4bc",
   "metadata": {},
   "source": [
    "## Author \n",
    "Dylan Hurtado"
   ]
  },
  {
   "cell_type": "code",
   "execution_count": null,
   "id": "e84cfd62-c8eb-4dd0-9b4a-0a28f790e41a",
   "metadata": {},
   "outputs": [],
   "source": []
  }
 ],
 "metadata": {
  "kernelspec": {
   "display_name": "Python [conda env:base] *",
   "language": "python",
   "name": "conda-base-py"
  },
  "language_info": {
   "codemirror_mode": {
    "name": "ipython",
    "version": 3
   },
   "file_extension": ".py",
   "mimetype": "text/x-python",
   "name": "python",
   "nbconvert_exporter": "python",
   "pygments_lexer": "ipython3",
   "version": "3.13.5"
  }
 },
 "nbformat": 4,
 "nbformat_minor": 5
}
